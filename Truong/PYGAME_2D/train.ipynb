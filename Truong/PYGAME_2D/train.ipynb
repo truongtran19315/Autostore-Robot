{
 "cells": [
  {
   "cell_type": "code",
   "execution_count": 1,
   "metadata": {},
   "outputs": [
    {
     "name": "stdout",
     "output_type": "stream",
     "text": [
      "pygame 2.5.2 (SDL 2.28.3, Python 3.12.0)\n",
      "Hello from the pygame community. https://www.pygame.org/contribute.html\n"
     ]
    }
   ],
   "source": [
    "import pygame_2d\n",
    "import numpy as np\n",
    "from const import*\n",
    "\n",
    "screen = np.zeros((720, 1280, 3), dtype = np.uint8)\n",
    "\n"
   ]
  },
  {
   "cell_type": "code",
   "execution_count": 2,
   "metadata": {},
   "outputs": [],
   "source": [
    "\n",
    "high, low = 1,0\n",
    "\n",
    "alpha = 0, 2*math.pi    # góc quay \n",
    "rVelo = PLAYER_SETTING.MIN_ROTATION_VELO, PLAYER_SETTING.MAX_ROTATION_VELO  # vận tốc quay \n",
    "fwVelo = -PLAYER_SETTING.MAX_FORWARD_VELO, PLAYER_SETTING.MAX_FORWARD_VELO    # vận tốc tiến\n",
    "\n"
   ]
  },
  {
   "cell_type": "code",
   "execution_count": 3,
   "metadata": {},
   "outputs": [],
   "source": [
    "\n",
    "gamma = 0.99\n",
    "alpha = 0.1\n",
    "epsilon = 1\n",
    "epsilon_decay = epsilon / 4000\n",
    "n_epsilondes = 10000\n",
    "\n"
   ]
  },
  {
   "cell_type": "code",
   "execution_count": 9,
   "metadata": {},
   "outputs": [
    {
     "name": "stdout",
     "output_type": "stream",
     "text": [
      "[308 466 325 446 471 342 359 281 313 400 448 313 482 353 492 403 371 311\n",
      " 355 474 327 381 478 257 393 322 491 467 401 350 351 264 483 217 242 409\n",
      " 319 281 247 226 306 468 305 488 411 385 252 295 277 231 449 318 314 453\n",
      " 263 292 398 393 297 457 467 417 463 216 487 499 283 258 256 377 361 353\n",
      " 397 428 200 403 378 318 454 390 303 409 488 413 380 264 308 352 421 330\n",
      " 459 480 496 441 225 428 416 271 318 379 229 447 380 455 398 202 410 390\n",
      " 421 455 371 314 275 436 273 307 341 447 357 245 240 465 205 451 496 480\n",
      " 246 232 350 373 438 280 327 429 421 457 328 438 293 283 268 209 389 302\n",
      " 239 278 468 244 433 258 277 361 325 303 439 437 494 261 453 433 429 394\n",
      " 457 393 384 432 351 301 311 460 233 245 445 409 388 430 486 294 474 413\n",
      " 243 339 438 256 447 316 350 210 261 440 200 232 326 282 269 400 332 489\n",
      " 430 415 340 331 217 356 218 498 397 265 464 212 237 233 478 242 484 393\n",
      " 386 332 387 354 300 207 234 376 481 310 268 274 427 249 202 286 490 275\n",
      " 285 234 271 382 245 238 241 375 258 274 252 292 383 378 322 263 275 243\n",
      " 280 389 203 392 200 342 233 271 489 220 425 445 372 384 436 212 341 353\n",
      " 234 420 373 409 383 313 216 238 483 293 442 224 452 370 454 323 423 262\n",
      " 394 448 443 478 275 409 253 417 367 300 326 314 229 437 335 301 378 308\n",
      " 260 464 477 496 456 338 471 348 273 254 295 297 255 331 499 418 473 484\n",
      " 427 429 364 299 491 426 430 319 240 443 395 412 446 284 373 219 304 277\n",
      " 245 309 302 285 424 453 376 477 333 244 381 465 427 334 407 250 420 273]\n",
      "[2 3 2 3 3 2 2 2 2 3 3 2 3 2 3 3 3 2 2 3 2 3 3 2 3 2 3 3 3 2 2 2 3 1 2 3 2\n",
      " 2 2 1 2 3 2 3 3 3 2 2 2 1 3 2 2 3 2 2 3 3 2 3 3 3 3 1 3 3 2 2 2 3 3 2 3 3\n",
      " 1 3 3 2 3 3 2 3 3 3 3 2 2 2 3 2 3 3 3 3 1 3 3 2 2 3 1 3 3 3 3 1 3 3 3 3 3\n",
      " 2 2 3 2 2 2 3 2 2 2 3 1 3 3 3 2 1 2 3 3 2 2 3 3 3 2 3 2 2 2 1 3 2 1 2 3 2\n",
      " 3 2 2 3 2 2 3 3 3 2 3 3 3 3 3 3 3 3 2 2 2 3 1 2 3 3 3 3 3 2 3 3 2 2 3 2 3\n",
      " 2 2 1 2 3 1 1 2 2 2 3 2 3 3 3 2 2 1 2 1 3 3 2 3 1 1 1 3 2 3 3 3 2 3 2 2 1\n",
      " 1 3 3 2 2 2 3 2 1 2 3 2 2 1 2 3 2 1 2 3 2 2 2 2 3 3 2 2 2 2 2 3 1 3 1 2 1\n",
      " 2 3 1 3 3 3 3 3 1 2 2 1 3 3 3 3 2 1 1 3 2 3 1 3 3 3 2 3 2 3 3 3 3 2 3 2 3\n",
      " 3 2 2 2 1 3 2 2 3 2 2 3 3 3 3 2 3 2 2 2 2 2 2 2 3 3 3 3 3 3 3 2 3 3 3 2 2\n",
      " 3 3 3 3 2 3 1 2 2 2 2 2 2 3 3 3 3 2 2 3 3 3 2 3 2 3 2]\n",
      "[1, 1, 1, 1]\n"
     ]
    }
   ],
   "source": [
    "random.seed(13)\n",
    "lidars = np.random.randint(200, 500, size= 360)\n",
    "print(lidars)\n",
    "\n",
    "bin_lidarsignal = np.linspace(\n",
    "    0, 360, num=LENGTH_LIDARSIGNAL, endpoint=True)\n",
    "bin_lidarsignal = np.delete(bin_lidarsignal, 0)\n",
    "lidars_digitized = np.digitize(lidars, bin_lidarsignal)\n",
    "print(lidars_digitized)\n",
    "\n",
    "bin_lidarspace = np.array([45, 135, 180])\n",
    "lidars_sections = np.array_split(lidars_digitized, bin_lidarspace)\n",
    "section_lidars_min = [np.amin(section) for section in lidars_sections]\n",
    "print(section_lidars_min)\n",
    "\n"
   ]
  },
  {
   "cell_type": "code",
   "execution_count": null,
   "metadata": {},
   "outputs": [
    {
     "data": {
      "text/plain": [
       "array([    0,     0,     0, 99999], dtype=int64)"
      ]
     },
     "execution_count": 6,
     "metadata": {},
     "output_type": "execute_result"
    }
   ],
   "source": [
    "bin_lidarspace = np.array([45, 135, 180])\n",
    "lidars_sections = np.array_split(lidars_digitized, bin_lidarspace)\n",
    "section_lidars_min = [np.amin(section) for section in lidars_sections]\n"
   ]
  },
  {
   "cell_type": "code",
   "execution_count": null,
   "metadata": {},
   "outputs": [],
   "source": []
  },
  {
   "cell_type": "code",
   "execution_count": null,
   "metadata": {},
   "outputs": [
    {
     "name": "stdout",
     "output_type": "stream",
     "text": [
      "[0.31415927 0.62831853 0.9424778  1.25663706 1.57079633 1.88495559\n",
      " 2.19911486 2.51327412 2.82743339 3.14159265 3.45575192 3.76991118\n",
      " 4.08407045 4.39822972 4.71238898 5.02654825 5.34070751 5.65486678\n",
      " 5.96902604]\n",
      "[-50.   0.  50.]\n",
      "[-0.5  0.   0.5]\n"
     ]
    }
   ],
   "source": [
    "\n",
    "high, low = 1, 0\n",
    "alpha_space = 0, 2*math.pi\n",
    "fwVelo_space = -PLAYER_SETTING.MAX_FORWARD_VELO, PLAYER_SETTING.MAX_FORWARD_VELO\n",
    "rVelo_space = PLAYER_SETTING.MIN_ROTATION_VELO, PLAYER_SETTING.MAX_ROTATION_VELO\n",
    "\n",
    "lowState = np.array(\n",
    "    [alpha_space[0], fwVelo_space[0], rVelo_space[0]], dtype=float)\n",
    "upState = np.array(\n",
    "    [alpha_space[1], fwVelo_space[1], rVelo_space[1]], dtype=float)\n",
    "\n",
    "infoState_shape = (ALPHA_SPACE, FWVELO_SPACE, RVELO_SPACE)\n",
    "\n",
    "bins = []\n",
    "for i in range(3):\n",
    "    item = np.linspace(\n",
    "        lowState[i],\n",
    "        upState[i],\n",
    "        num=infoState_shape[i],\n",
    "        endpoint=False)\n",
    "    item = np.delete(item, 0)\n",
    "    bins.append(item)\n",
    "    print(bins[i])\n"
   ]
  },
  {
   "cell_type": "code",
   "execution_count": null,
   "metadata": {},
   "outputs": [
    {
     "data": {
      "text/plain": [
       "array([1, 2, 2], dtype=int64)"
      ]
     },
     "execution_count": 8,
     "metadata": {},
     "output_type": "execute_result"
    }
   ],
   "source": [
    "alpha = 0.3993\n",
    "fwVelo = 23\n",
    "rVelo = 0.32\n",
    "s = (alpha, fwVelo, rVelo)\n",
    "infoStateVector = []\n",
    "for i in range(3):\n",
    "    infoStateVector.append(np.digitize(s[i], bins[i]))\n",
    "\n",
    "infoStateVector = np.array(infoStateVector)\n",
    "infoStateVector"
   ]
  },
  {
   "cell_type": "code",
   "execution_count": null,
   "metadata": {},
   "outputs": [
    {
     "data": {
      "text/plain": [
       "array([    1,     3,     0,     0,     0,     0, 99999], dtype=int64)"
      ]
     },
     "execution_count": 26,
     "metadata": {},
     "output_type": "execute_result"
    }
   ],
   "source": [
    "np.concatenate((infoStateVector, lidarStateVector))"
   ]
  },
  {
   "cell_type": "code",
   "execution_count": null,
   "metadata": {},
   "outputs": [
    {
     "data": {
      "text/plain": [
       "(20, 4, 4, 4, 6)"
      ]
     },
     "execution_count": 41,
     "metadata": {},
     "output_type": "execute_result"
    }
   ],
   "source": [
    "new_observation_shape = (ALPHA_SPACE, FWVELO_SPACE, RVELO_SPACE, SECTIONS_LIDARSPACE)\n",
    "q_table = np.zeros(new_observation_shape + (ACTION_SPACE,))\n",
    "q_table.shape"
   ]
  }
 ],
 "metadata": {
  "kernelspec": {
   "display_name": "Python 3",
   "language": "python",
   "name": "python3"
  },
  "language_info": {
   "codemirror_mode": {
    "name": "ipython",
    "version": 3
   },
   "file_extension": ".py",
   "mimetype": "text/x-python",
   "name": "python",
   "nbconvert_exporter": "python",
   "pygments_lexer": "ipython3",
   "version": "3.12.0"
  }
 },
 "nbformat": 4,
 "nbformat_minor": 2
}

{
 "cells": [
  {
   "cell_type": "code",
   "execution_count": 98,
   "metadata": {},
   "outputs": [],
   "source": [
    "from pygame_2d import*\n",
    "import numpy as np\n",
    "import const\n",
    "\n",
    "screen = np.zeros((720, 1280, 3), dtype = np.uint8)\n",
    "\n"
   ]
  },
  {
   "cell_type": "code",
   "execution_count": 141,
   "metadata": {},
   "outputs": [],
   "source": [
    "\n",
    "high, low = 1,0\n",
    "\n",
    "alpha = 0, 2*math.pi    # góc quay \n",
    "rVelo = PLAYER_SETTING.MIN_ROTATION_VELO, PLAYER_SETTING.MAX_ROTATION_VELO  # vận tốc quay \n",
    "fwVelo = -PLAYER_SETTING.MAX_FORWARD_VELO, PLAYER_SETTING.MAX_FORWARD_VELO    # vận tốc tiến\n",
    "\n"
   ]
  },
  {
   "cell_type": "code",
   "execution_count": 131,
   "metadata": {},
   "outputs": [],
   "source": [
    "\n",
    "gamma = 0.99\n",
    "alpha = 0.1\n",
    "epsilon = 1\n",
    "epsilon_decay = epsilon / 4000\n",
    "n_epsilondes = 10000\n",
    "\n"
   ]
  },
  {
   "cell_type": "code",
   "execution_count": null,
   "metadata": {},
   "outputs": [],
   "source": [
    "N_LIDARSIGNAL = 4   # 0,1,2 and 3 is inf\n",
    "N_SAPCELIDAR = 3    # 0,1,2\n",
    "random.seed(13)\n",
    "lidars = np.random.randint(0, 360, size= 360)\n",
    "\n",
    "bin_lidarsignal = np.linspace(0, 360, num= N_LIDARSIGNAL, endpoint= True)\n",
    "bin_lidarsignal = np.delete(bin_lidarsignal, 0)\n",
    "lidars = np.digitize(lidars, bin_lidarsignal)\n",
    "\n",
    "lidars[lidars == 3] = INFINITY\n",
    "const_lidars = lidars\n",
    "temp_lidars = lidars\n"
   ]
  },
  {
   "cell_type": "code",
   "execution_count": 130,
   "metadata": {},
   "outputs": [
    {
     "data": {
      "text/plain": [
       "array([    0,     0,     0, 99999], dtype=int64)"
      ]
     },
     "execution_count": 130,
     "metadata": {},
     "output_type": "execute_result"
    }
   ],
   "source": [
    "bin_lidarspace = np.array([45, 135, 180])\n",
    "lidars = np.array_split(temp_lidars, bin_lidarspace)\n",
    "\n",
    "# dis_lidars = {\"0\": (np.amin(lidars[0]), lidars[0]),\n",
    "#               \"1\": (np.amin(lidars[1]), lidars[1]),\n",
    "#               \"2\": (np.amin(lidars[2]), lidars[2]),\n",
    "#               \"3\": INFINITY}\n",
    "\n",
    "section_lidars_min = [np.amin(lidars[0]), np.amin(lidars[1]), np.amin(lidars[2]), INFINITY]\n",
    "lidarStateVector = np.array(section_lidars_min)\n",
    "lidarStateVector"
   ]
  },
  {
   "cell_type": "code",
   "execution_count": null,
   "metadata": {},
   "outputs": [],
   "source": []
  },
  {
   "cell_type": "code",
   "execution_count": 147,
   "metadata": {},
   "outputs": [
    {
     "name": "stdout",
     "output_type": "stream",
     "text": [
      "[0.31415927 0.62831853 0.9424778  1.25663706 1.57079633 1.88495559\n",
      " 2.19911486 2.51327412 2.82743339 3.14159265 3.45575192 3.76991118\n",
      " 4.08407045 4.39822972 4.71238898 5.02654825 5.34070751 5.65486678\n",
      " 5.96902604]\n",
      "[-50.   0.  50.]\n",
      "[-0.5  0.   0.5]\n"
     ]
    },
    {
     "data": {
      "text/plain": [
       "[1, 3, 0]"
      ]
     },
     "execution_count": 147,
     "metadata": {},
     "output_type": "execute_result"
    }
   ],
   "source": [
    "\n",
    "\n",
    "# set các khoảng rời rạc\n",
    "ALPHA_SPACE = 20\n",
    "FWVELO_SPACE = 4\n",
    "RVELO_SPACE = 4\n",
    "high, low = 1, 0\n",
    "alpha_space = 0, 2*math.pi\n",
    "fwVelo_space = -PLAYER_SETTING.MAX_FORWARD_VELO, PLAYER_SETTING.MAX_FORWARD_VELO\n",
    "rVelo_space = PLAYER_SETTING.MIN_ROTATION_VELO, PLAYER_SETTING.MAX_ROTATION_VELO\n",
    "\n",
    "lowState = np.array(\n",
    "    [alpha_space[0], fwVelo_space[0], rVelo_space[0]], dtype=float)\n",
    "upState = np.array(\n",
    "    [alpha_space[1], fwVelo_space[1], rVelo_space[1]], dtype=float)\n",
    "\n",
    "infoState_shape = (ALPHA_SPACE, FWVELO_SPACE, RVELO_SPACE)\n",
    "\n",
    "bins = []\n",
    "for i in range(3):\n",
    "    item = np.linspace(\n",
    "        lowState[i],\n",
    "        upState[i],\n",
    "        num=infoState_shape[i],\n",
    "        endpoint=False)\n",
    "    item = np.delete(item, 0)\n",
    "    bins.append(item)\n",
    "    print(bins[i])\n",
    "\n",
    "def get_discrete_state(s):\n",
    "    new_s = []\n",
    "    for i in range(3):\n",
    "        new_s.append(np.digitize(s[i], bins[i]))\n",
    "    return new_s\n",
    "\n",
    "infoStateVector = get_discrete_state([0.3895725, 99, -0.658345])\n",
    "infoStateVector\n"
   ]
  },
  {
   "cell_type": "code",
   "execution_count": 151,
   "metadata": {},
   "outputs": [
    {
     "data": {
      "text/plain": [
       "array([    1,     3,     0,     0,     0,     0, 99999], dtype=int64)"
      ]
     },
     "execution_count": 151,
     "metadata": {},
     "output_type": "execute_result"
    }
   ],
   "source": [
    "new_observation = np.concatenate((infoStateVector, lidarStateVector))\n",
    "new_observation"
   ]
  },
  {
   "cell_type": "code",
   "execution_count": 152,
   "metadata": {},
   "outputs": [
    {
     "name": "stdout",
     "output_type": "stream",
     "text": [
      "(7, 6)\n"
     ]
    }
   ],
   "source": [
    "q_table = np.zeros(new_observation.shape + (ACTION_SPACE, ))\n",
    "print(q_table.shape)"
   ]
  },
  {
   "cell_type": "code",
   "execution_count": null,
   "metadata": {},
   "outputs": [],
   "source": [
    "\n",
    "def pick_sample(state):\n",
    "    if np.random.random() > epsilon:\n",
    "        action = np.argmax(q_table[tuple(state)])\n",
    "    else:\n",
    "        action = np.random.randint(0, ACTION_SPACE)\n",
    "    return action\n",
    "\n",
    "def step(action):\n",
    "    pass\n",
    "\n",
    "reward_records = []\n",
    "for i in range(n_epsilondes):\n",
    "    done = False\n",
    "    total_reward = 0\n",
    "    \n",
    "    game = PyGame2D(screen=screen)\n",
    "    state = game.observe()\n",
    "    \n",
    "    s_dis = get_discrete_state(state)\n",
    "    while not done:\n",
    "        action = pick_sample(s_dis, i)\n",
    "        #! ... (thêm) sau khi thực hiện action thì cập nhật lại...\n",
    "        #! sửa lại hàm action bên PyGame2D \n",
    "        state, reward, done = game.observe(), game.evaluate(), game.is_done()\n",
    "        \n",
    "        s_dis_next = get_discrete_state(state)\n",
    "\n",
    "        # Update Q-Table\n",
    "        maxQ = np.max(q_table[tuple(s_dis_next)])\n",
    "        q_table[tuple(s_dis)][action] += alpha * (reward + gamma * maxQ - q_table[tuple(s_dis)][action])\n",
    "\n",
    "        s_dis = s_dis_next\n",
    "        total_reward += reward\n",
    "\n",
    "    # Update epsilon for each episode\n",
    "    if epsilon - epsilon_decay >= 0:\n",
    "        epsilon -= epsilon_decay\n",
    "\n",
    "    # Record total rewards in episode \n",
    "    print(\"Run episode {} with rewards {}\".format(i, total_reward), end=\"\\r\")\n",
    "    reward_records.append(total_reward)\n",
    "\n",
    "print(\"\\nDone\")\n"
   ]
  }
 ],
 "metadata": {
  "kernelspec": {
   "display_name": "Python 3",
   "language": "python",
   "name": "python3"
  },
  "language_info": {
   "codemirror_mode": {
    "name": "ipython",
    "version": 3
   },
   "file_extension": ".py",
   "mimetype": "text/x-python",
   "name": "python",
   "nbconvert_exporter": "python",
   "pygments_lexer": "ipython3",
   "version": "3.12.0"
  }
 },
 "nbformat": 4,
 "nbformat_minor": 2
}

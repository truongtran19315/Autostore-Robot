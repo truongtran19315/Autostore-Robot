{
 "cells": [
  {
   "cell_type": "code",
   "execution_count": 43,
   "metadata": {},
   "outputs": [],
   "source": [
    "import pygame_2d\n",
    "import numpy as np\n",
    "from const import*\n",
    "\n",
    "screen = np.zeros((720, 1280, 3), dtype = np.uint8)\n",
    "\n"
   ]
  },
  {
   "cell_type": "code",
   "execution_count": 44,
   "metadata": {},
   "outputs": [],
   "source": [
    "\n",
    "high, low = 1,0\n",
    "\n",
    "alpha = 0, 2*math.pi    # góc quay \n",
    "rVelo = PLAYER_SETTING.MIN_ROTATION_VELO, PLAYER_SETTING.MAX_ROTATION_VELO  # vận tốc quay \n",
    "fwVelo = -PLAYER_SETTING.MAX_FORWARD_VELO, PLAYER_SETTING.MAX_FORWARD_VELO    # vận tốc tiến\n",
    "\n"
   ]
  },
  {
   "cell_type": "code",
   "execution_count": 45,
   "metadata": {},
   "outputs": [],
   "source": [
    "\n",
    "gamma = 0.99\n",
    "alpha = 0.1\n",
    "epsilon = 1\n",
    "epsilon_decay = epsilon / 4000\n",
    "n_epsilondes = 10000\n",
    "\n"
   ]
  },
  {
   "cell_type": "code",
   "execution_count": 46,
   "metadata": {},
   "outputs": [
    {
     "ename": "NameError",
     "evalue": "name 'LENGTH_LIDARSIGNAL' is not defined",
     "output_type": "error",
     "traceback": [
      "\u001b[1;31m---------------------------------------------------------------------------\u001b[0m",
      "\u001b[1;31mNameError\u001b[0m                                 Traceback (most recent call last)",
      "\u001b[1;32mc:\\Users\\truon\\PROJECTS\\PYTHON\\do-an-hk231\\Autostore-Robot\\Truong\\PYGAME_2D\\train.ipynb Cell 4\u001b[0m line \u001b[0;36m4\n\u001b[0;32m      <a href='vscode-notebook-cell:/c%3A/Users/truon/PROJECTS/PYTHON/do-an-hk231/Autostore-Robot/Truong/PYGAME_2D/train.ipynb#W3sZmlsZQ%3D%3D?line=0'>1</a>\u001b[0m random\u001b[39m.\u001b[39mseed(\u001b[39m13\u001b[39m)\n\u001b[0;32m      <a href='vscode-notebook-cell:/c%3A/Users/truon/PROJECTS/PYTHON/do-an-hk231/Autostore-Robot/Truong/PYGAME_2D/train.ipynb#W3sZmlsZQ%3D%3D?line=1'>2</a>\u001b[0m lidars \u001b[39m=\u001b[39m np\u001b[39m.\u001b[39mrandom\u001b[39m.\u001b[39mrandint(\u001b[39m0\u001b[39m, \u001b[39m360\u001b[39m, size\u001b[39m=\u001b[39m \u001b[39m360\u001b[39m)\n\u001b[1;32m----> <a href='vscode-notebook-cell:/c%3A/Users/truon/PROJECTS/PYTHON/do-an-hk231/Autostore-Robot/Truong/PYGAME_2D/train.ipynb#W3sZmlsZQ%3D%3D?line=3'>4</a>\u001b[0m bin_lidarsignal \u001b[39m=\u001b[39m np\u001b[39m.\u001b[39mlinspace(\u001b[39m0\u001b[39m, \u001b[39m360\u001b[39m, num\u001b[39m=\u001b[39m LENGTH_LIDARSIGNAL, endpoint\u001b[39m=\u001b[39m \u001b[39mTrue\u001b[39;00m)\n\u001b[0;32m      <a href='vscode-notebook-cell:/c%3A/Users/truon/PROJECTS/PYTHON/do-an-hk231/Autostore-Robot/Truong/PYGAME_2D/train.ipynb#W3sZmlsZQ%3D%3D?line=4'>5</a>\u001b[0m bin_lidarsignal \u001b[39m=\u001b[39m np\u001b[39m.\u001b[39mdelete(bin_lidarsignal, \u001b[39m0\u001b[39m)\n\u001b[0;32m      <a href='vscode-notebook-cell:/c%3A/Users/truon/PROJECTS/PYTHON/do-an-hk231/Autostore-Robot/Truong/PYGAME_2D/train.ipynb#W3sZmlsZQ%3D%3D?line=5'>6</a>\u001b[0m lidars \u001b[39m=\u001b[39m np\u001b[39m.\u001b[39mdigitize(lidars, bin_lidarsignal)\n",
      "\u001b[1;31mNameError\u001b[0m: name 'LENGTH_LIDARSIGNAL' is not defined"
     ]
    }
   ],
   "source": [
    "random.seed(13)\n",
    "lidars = np.random.randint(0, 360, size= 360)\n",
    "\n",
    "bin_lidarsignal = np.linspace(0, 360, num= LENGTH_LIDARSIGNAL, endpoint= True)\n",
    "bin_lidarsignal = np.delete(bin_lidarsignal, 0)\n",
    "lidars = np.digitize(lidars, bin_lidarsignal)\n",
    "\n",
    "lidars[lidars == 3] = INT_INFINITY\n",
    "const_lidars = lidars\n",
    "temp_lidars = lidars\n"
   ]
  },
  {
   "cell_type": "code",
   "execution_count": null,
   "metadata": {},
   "outputs": [
    {
     "data": {
      "text/plain": [
       "array([    0,     0,     0, 99999], dtype=int64)"
      ]
     },
     "execution_count": 6,
     "metadata": {},
     "output_type": "execute_result"
    }
   ],
   "source": [
    "bin_lidarspace = np.array([45, 135, 180])\n",
    "lidars = np.array_split(temp_lidars, bin_lidarspace)\n",
    "\n",
    "# dis_lidars = {\"0\": (np.amin(lidars[0]), lidars[0]),\n",
    "#               \"1\": (np.amin(lidars[1]), lidars[1]),\n",
    "#               \"2\": (np.amin(lidars[2]), lidars[2]),\n",
    "#               \"3\": INFINITY}\n",
    "\n",
    "section_lidars_min = [np.amin(lidars[0]), np.amin(lidars[1]), np.amin(lidars[2]), INT_INFINITY]\n",
    "lidarStateVector = np.array(section_lidars_min)\n",
    "lidarStateVector"
   ]
  },
  {
   "cell_type": "code",
   "execution_count": null,
   "metadata": {},
   "outputs": [],
   "source": []
  },
  {
   "cell_type": "code",
   "execution_count": null,
   "metadata": {},
   "outputs": [
    {
     "name": "stdout",
     "output_type": "stream",
     "text": [
      "[0.31415927 0.62831853 0.9424778  1.25663706 1.57079633 1.88495559\n",
      " 2.19911486 2.51327412 2.82743339 3.14159265 3.45575192 3.76991118\n",
      " 4.08407045 4.39822972 4.71238898 5.02654825 5.34070751 5.65486678\n",
      " 5.96902604]\n",
      "[-50.   0.  50.]\n",
      "[-0.5  0.   0.5]\n"
     ]
    }
   ],
   "source": [
    "\n",
    "high, low = 1, 0\n",
    "alpha_space = 0, 2*math.pi\n",
    "fwVelo_space = -PLAYER_SETTING.MAX_FORWARD_VELO, PLAYER_SETTING.MAX_FORWARD_VELO\n",
    "rVelo_space = PLAYER_SETTING.MIN_ROTATION_VELO, PLAYER_SETTING.MAX_ROTATION_VELO\n",
    "\n",
    "lowState = np.array(\n",
    "    [alpha_space[0], fwVelo_space[0], rVelo_space[0]], dtype=float)\n",
    "upState = np.array(\n",
    "    [alpha_space[1], fwVelo_space[1], rVelo_space[1]], dtype=float)\n",
    "\n",
    "infoState_shape = (ALPHA_SPACE, FWVELO_SPACE, RVELO_SPACE)\n",
    "\n",
    "bins = []\n",
    "for i in range(3):\n",
    "    item = np.linspace(\n",
    "        lowState[i],\n",
    "        upState[i],\n",
    "        num=infoState_shape[i],\n",
    "        endpoint=False)\n",
    "    item = np.delete(item, 0)\n",
    "    bins.append(item)\n",
    "    print(bins[i])\n"
   ]
  },
  {
   "cell_type": "code",
   "execution_count": null,
   "metadata": {},
   "outputs": [
    {
     "data": {
      "text/plain": [
       "array([1, 2, 2], dtype=int64)"
      ]
     },
     "execution_count": 8,
     "metadata": {},
     "output_type": "execute_result"
    }
   ],
   "source": [
    "alpha = 0.3993\n",
    "fwVelo = 23\n",
    "rVelo = 0.32\n",
    "s = (alpha, fwVelo, rVelo)\n",
    "infoStateVector = []\n",
    "for i in range(3):\n",
    "    infoStateVector.append(np.digitize(s[i], bins[i]))\n",
    "\n",
    "infoStateVector = np.array(infoStateVector)\n",
    "infoStateVector"
   ]
  },
  {
   "cell_type": "code",
   "execution_count": null,
   "metadata": {},
   "outputs": [
    {
     "data": {
      "text/plain": [
       "array([    1,     3,     0,     0,     0,     0, 99999], dtype=int64)"
      ]
     },
     "execution_count": 26,
     "metadata": {},
     "output_type": "execute_result"
    }
   ],
   "source": [
    "np.concatenate((infoStateVector, lidarStateVector))"
   ]
  },
  {
   "cell_type": "code",
   "execution_count": null,
   "metadata": {},
   "outputs": [
    {
     "data": {
      "text/plain": [
       "(20, 4, 4, 4, 6)"
      ]
     },
     "execution_count": 41,
     "metadata": {},
     "output_type": "execute_result"
    }
   ],
   "source": [
    "new_observation_shape = (ALPHA_SPACE, FWVELO_SPACE, RVELO_SPACE, SECTIONS_LIDARSPACE)\n",
    "q_table = np.zeros(new_observation_shape + (ACTION_SPACE,))\n",
    "q_table.shape"
   ]
  }
 ],
 "metadata": {
  "kernelspec": {
   "display_name": "Python 3",
   "language": "python",
   "name": "python3"
  },
  "language_info": {
   "codemirror_mode": {
    "name": "ipython",
    "version": 3
   },
   "file_extension": ".py",
   "mimetype": "text/x-python",
   "name": "python",
   "nbconvert_exporter": "python",
   "pygments_lexer": "ipython3",
   "version": "3.12.0"
  }
 },
 "nbformat": 4,
 "nbformat_minor": 2
}

{
 "cells": [
  {
   "cell_type": "code",
   "execution_count": 2,
   "metadata": {},
   "outputs": [
    {
     "name": "stdout",
     "output_type": "stream",
     "text": [
      "pygame 2.5.2 (SDL 2.28.3, Python 3.12.0)\n",
      "Hello from the pygame community. https://www.pygame.org/contribute.html\n"
     ]
    }
   ],
   "source": [
    "from pygame_2d import*\n",
    "import numpy as np\n",
    "import const\n",
    "\n",
    "screen = np.zeros((720, 1280, 3), dtype = np.uint8)\n",
    "\n"
   ]
  },
  {
   "cell_type": "code",
   "execution_count": 3,
   "metadata": {},
   "outputs": [],
   "source": [
    "\n",
    "high, low = 1,0\n",
    "\n",
    "alpha = 0, 2*math.pi    # góc quay \n",
    "rVelo = PLAYER_SETTING.MIN_ROTATION_VELO, PLAYER_SETTING.MAX_ROTATION_VELO  # vận tốc quay \n",
    "fVelo = -PLAYER_SETTING.MAX_FORWARD_VELO, PLAYER_SETTING.MAX_FORWARD_VELO    # vận tốc tiến\n",
    "\n"
   ]
  },
  {
   "cell_type": "code",
   "execution_count": 11,
   "metadata": {},
   "outputs": [],
   "source": [
    "lowerBoundLidar = np.full((PLAYER_SETTING.CASTED_RAYS,), 0)\n",
    "upperBoundLidar = np.full((PLAYER_SETTING.CASTED_RAYS,), INT_INFINITY)\n",
    "\n",
    "lowState = np.array([alpha[0], fVelo[0], rVelo[0], lowerBoundLidar], dtype= object)\n",
    "upState = np.array([alpha[1], fVelo[1], rVelo[1], upperBoundLidar], dtype= object)\n",
    "\n"
   ]
  },
  {
   "cell_type": "code",
   "execution_count": 13,
   "metadata": {},
   "outputs": [],
   "source": [
    "\n",
    "gamma = 0.99\n",
    "alpha = 0.1\n",
    "epsilon = 1\n",
    "epsilon_decay = epsilon / 4000\n",
    "n_epsilondes = 10000\n",
    "\n",
    "\n",
    "# set các khoảng rời rạc\n",
    "ALPHA_SPACE = 3\n",
    "FVELO_SPACE = 4\n",
    "RVELO_SPACE = 4\n",
    "BOUNDlIDAR_SPACE = 3\n"
   ]
  },
  {
   "cell_type": "code",
   "execution_count": 40,
   "metadata": {},
   "outputs": [
    {
     "name": "stdout",
     "output_type": "stream",
     "text": [
      "[2.0943951 4.1887902]\n",
      "[-50.   0.  50.]\n",
      "[-0.5  0.   0.5]\n"
     ]
    },
    {
     "data": {
      "text/plain": [
       "array([[1, 1, 1, 1, 1, 1, 1, 1, 1, 1, 1, 1, 1, 1, 1, 1, 1, 1, 1, 1, 1, 1,\n",
       "        1, 1, 1, 1, 1, 1, 1, 1, 1, 1, 1, 1, 1, 1, 1, 1, 1, 1, 1, 1, 1, 1,\n",
       "        1, 2, 2, 2, 2, 2, 2, 2, 2, 2, 2, 2, 2, 2, 2, 2, 2, 2, 2, 2, 2, 2,\n",
       "        2, 2, 2, 2, 2, 2, 2, 2, 2, 2, 2, 2, 2, 2, 2, 2, 2, 2, 2, 2, 2, 2,\n",
       "        2, 2, 2, 2, 2, 2, 2, 2, 2, 2, 2, 2, 2, 2, 2, 2, 2, 2, 2, 2, 2, 2,\n",
       "        2, 2, 2, 2, 2, 2, 2, 2, 2, 2, 2, 2, 2, 2, 2, 2, 2, 2, 2, 2, 2, 2,\n",
       "        2, 2, 2, 3, 3, 3, 3, 3, 3, 3, 3, 3, 3, 3, 3, 3, 3, 3, 3, 3, 3, 3,\n",
       "        3, 3, 3, 3, 3, 3, 3, 3, 3, 3, 3, 3, 3, 3, 3, 3, 3, 3, 3, 3, 3, 3,\n",
       "        3, 3, 3, 3, 4, 4, 4, 4, 4, 4, 4, 4, 4, 4, 4, 4, 4, 4, 4, 4, 4, 4,\n",
       "        4, 4, 4, 4, 4, 4, 4, 4, 4, 4, 4, 4, 4, 4, 4, 4, 4, 4, 4, 4, 4, 4,\n",
       "        4, 4, 4, 4, 4, 4, 4, 4, 4, 4, 4, 4, 4, 4, 4, 4, 4, 4, 4, 4, 4, 4,\n",
       "        4, 4, 4, 4, 4, 4, 4, 4, 4, 4, 4, 4, 4, 4, 4, 4, 4, 4, 4, 4, 4, 4,\n",
       "        4, 4, 4, 4, 4, 4, 4, 4, 4, 4, 4, 4, 4, 4, 4, 4, 4, 4, 4, 4, 4, 4,\n",
       "        4, 4, 4, 4, 4, 4, 4, 4, 4, 4, 4, 4, 4, 4, 4, 4, 4, 4, 4, 4, 4, 4,\n",
       "        4, 4, 4, 4, 4, 4, 4, 4, 4, 4, 4, 4, 4, 4, 4, 4, 4, 4, 4, 4, 4, 4,\n",
       "        4, 4, 4, 4, 4, 4, 4, 4, 4, 4, 4, 4, 4, 4, 4, 4, 4, 4, 4, 4, 4, 4,\n",
       "        4, 4, 4, 4, 4, 4, 4, 4]], dtype=int64)"
      ]
     },
     "execution_count": 40,
     "metadata": {},
     "output_type": "execute_result"
    }
   ],
   "source": [
    "\n",
    "new_observation_shape = (ALPHA_SPACE, FVELO_SPACE, RVELO_SPACE, BOUNDlIDAR_SPACE)\n",
    "\n",
    "bins = []\n",
    "for i in range(3):\n",
    "    item = np.linspace(\n",
    "        lowState[i],\n",
    "        upState[i],\n",
    "        num=new_observation_shape[i],\n",
    "        endpoint=False)\n",
    "    item = np.delete(item, 0)\n",
    "    bins.append(item)\n",
    "    print(bins[i])\n",
    "\n",
    "def get_discrete_state(s):\n",
    "    new_s = []\n",
    "    for i in range(3):\n",
    "        new_s.append(np.digitize(s[i], bins[i]))\n",
    "    return new_s\n",
    "\n",
    "boundLidar_bin_index = np.array([0, 45, 135, 180])\n",
    "boundLidar_discrete = (np.digitize([np.arange(0,360)], boundLidar_bin_index))\n",
    "boundLidar_discrete\n"
   ]
  },
  {
   "cell_type": "code",
   "execution_count": 16,
   "metadata": {},
   "outputs": [
    {
     "name": "stdout",
     "output_type": "stream",
     "text": [
      "(3, 4, 4, 3, 6)\n"
     ]
    }
   ],
   "source": [
    "q_table = np.zeros(new_observation_shape + (ACTION_SPACE, ))\n",
    "print(q_table.shape)"
   ]
  },
  {
   "cell_type": "code",
   "execution_count": null,
   "metadata": {},
   "outputs": [],
   "source": [
    "\n",
    "def pick_sample(state):\n",
    "    if np.random.random() > epsilon:\n",
    "        action = np.argmax(q_table[tuple(state)])\n",
    "    else:\n",
    "        action = np.random.randint(0, ACTION_SPACE)\n",
    "    return action\n",
    "\n",
    "def step(action):\n",
    "    pass\n",
    "\n",
    "reward_records = []\n",
    "for i in range(n_epsilondes):\n",
    "    done = False\n",
    "    total_reward = 0\n",
    "    \n",
    "    game = PyGame2D(screen=screen)\n",
    "    state = game.observe()\n",
    "    \n",
    "    s_dis = get_discrete_state(state)\n",
    "    while not done:\n",
    "        action = pick_sample(s_dis, i)\n",
    "        #! ... (thêm) sau khi thực hiện action thì cập nhật lại...\n",
    "        #! sửa lại hàm action bên PyGame2D \n",
    "        state, reward, done = game.observe(), game.evaluate(), game.is_done()\n",
    "        \n",
    "        s_dis_next = get_discrete_state(state)\n",
    "\n",
    "        # Update Q-Table\n",
    "        maxQ = np.max(q_table[tuple(s_dis_next)])\n",
    "        q_table[tuple(s_dis)][action] += alpha * (reward + gamma * maxQ - q_table[tuple(s_dis)][action])\n",
    "\n",
    "        s_dis = s_dis_next\n",
    "        total_reward += reward\n",
    "\n",
    "    # Update epsilon for each episode\n",
    "    if epsilon - epsilon_decay >= 0:\n",
    "        epsilon -= epsilon_decay\n",
    "\n",
    "    # Record total rewards in episode \n",
    "    print(\"Run episode {} with rewards {}\".format(i, total_reward), end=\"\\r\")\n",
    "    reward_records.append(total_reward)\n",
    "\n",
    "print(\"\\nDone\")\n"
   ]
  }
 ],
 "metadata": {
  "kernelspec": {
   "display_name": "Python 3",
   "language": "python",
   "name": "python3"
  },
  "language_info": {
   "codemirror_mode": {
    "name": "ipython",
    "version": 3
   },
   "file_extension": ".py",
   "mimetype": "text/x-python",
   "name": "python",
   "nbconvert_exporter": "python",
   "pygments_lexer": "ipython3",
   "version": "3.12.0"
  }
 },
 "nbformat": 4,
 "nbformat_minor": 2
}

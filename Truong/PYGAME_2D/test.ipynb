{
 "cells": [
  {
   "cell_type": "code",
   "execution_count": 66,
   "metadata": {},
   "outputs": [],
   "source": [
    "from const import*\n",
    "import numpy as np\n",
    "import random"
   ]
  },
  {
   "cell_type": "code",
   "execution_count": 67,
   "metadata": {},
   "outputs": [
    {
     "data": {
      "text/plain": [
       "array([265, 125,  15, 320, 123, 156, 221,   8,  73, 256,  40,  16, 356,\n",
       "       239,  54, 344, 122,  62,  33, 200, 356, 177, 179,  54,  77,  13,\n",
       "       243, 141, 348, 342, 286, 158,  89, 140, 321,  31, 313, 292, 283,\n",
       "        18,  93,  77,  94, 248, 156,  74, 216,  15,  18, 118,  71, 344,\n",
       "       145, 135, 203, 284, 289, 250, 352,  44, 133,   4,  71, 344, 344,\n",
       "       306, 182, 290, 271, 344, 143, 134, 246,  85, 234, 150,  11, 112,\n",
       "       268, 220,  62, 185,  79, 232,  42, 237, 313, 235, 353, 306,  45,\n",
       "       201, 165, 128,  23,   3, 285, 272, 340, 338, 112,  14,  51,  79,\n",
       "       243, 273, 178,  53, 234, 273, 337, 233,  41,  90, 268, 286, 209,\n",
       "       144, 128, 159, 357, 201, 244, 254,  22,  96, 322,  67,  95, 355,\n",
       "        82,  62, 246,  77,  48, 237, 115, 267,  95, 171, 224, 229,  73,\n",
       "       168, 357, 235, 346,  71, 136, 213, 328, 255,  30, 123, 153, 206,\n",
       "       213,  13, 169,   4, 215, 350,  28,  39, 347, 103, 265, 263, 150,\n",
       "        32, 259,   9, 180, 196, 158, 330, 286, 137, 258, 115, 141, 133,\n",
       "       221, 340, 298, 162, 168,  46, 350,  86, 186, 301,  18,  44, 319,\n",
       "       205,  18,  83, 165, 103, 143,  55, 300,   9, 306,   0,  44, 324,\n",
       "       270, 117,  42, 201,  44, 251, 294,  40, 144, 331, 314, 209,  39,\n",
       "        49, 127, 206, 335,  21, 316, 314,   3, 204, 145, 178,  51, 148,\n",
       "         5, 247, 198, 189, 232, 202, 132, 275,  85, 201, 291, 120, 291,\n",
       "       112, 267,  41, 310,  19, 297, 189,  36,   0, 251, 158, 318,  85,\n",
       "       288, 104, 269, 246, 288, 224, 165, 207, 187, 359,  20,  89, 124,\n",
       "       256, 352, 281,  63, 315, 258,  30,  17, 315, 198,  86,  29, 106,\n",
       "       199, 348, 275, 128, 251,  87, 313, 250, 208,   2, 162,  58, 138,\n",
       "        79, 325, 248, 219, 144,   5,  63, 339, 331, 170, 185, 135, 224,\n",
       "        38,  48, 155, 320, 177, 265, 283, 308, 346, 313, 113,  23, 147,\n",
       "        48, 225, 332,  75,  93, 286, 287, 156, 101, 212, 149, 212, 227,\n",
       "       174, 301, 340, 148, 289, 130, 353, 226, 268, 338, 205,  66,  37,\n",
       "       159, 312, 209, 343,  55, 353,  74, 248,  15])"
      ]
     },
     "execution_count": 67,
     "metadata": {},
     "output_type": "execute_result"
    }
   ],
   "source": [
    "np.random.seed(10)\n",
    "lidars = np.random.randint(0, 360, size=360)\n",
    "lidars"
   ]
  },
  {
   "cell_type": "code",
   "execution_count": 68,
   "metadata": {},
   "outputs": [
    {
     "name": "stdout",
     "output_type": "stream",
     "text": [
      "[120. 240. 360.]\n"
     ]
    },
    {
     "data": {
      "text/plain": [
       "array([2, 1, 0, 2, 1, 1, 1, 0, 0, 2, 0, 0, 2, 1, 0, 2, 1, 0, 0, 1, 2, 1,\n",
       "       1, 0, 0, 0, 2, 1, 2, 2, 2, 1, 0, 1, 2, 0, 2, 2, 2, 0, 0, 0, 0, 2,\n",
       "       1, 0, 1, 0, 0, 0, 0, 2, 1, 1, 1, 2, 2, 2, 2, 0, 1, 0, 0, 2, 2, 2,\n",
       "       1, 2, 2, 2, 1, 1, 2, 0, 1, 1, 0, 0, 2, 1, 0, 1, 0, 1, 0, 1, 2, 1,\n",
       "       2, 2, 0, 1, 1, 1, 0, 0, 2, 2, 2, 2, 0, 0, 0, 0, 2, 2, 1, 0, 1, 2,\n",
       "       2, 1, 0, 0, 2, 2, 1, 1, 1, 1, 2, 1, 2, 2, 0, 0, 2, 0, 0, 2, 0, 0,\n",
       "       2, 0, 0, 1, 0, 2, 0, 1, 1, 1, 0, 1, 2, 1, 2, 0, 1, 1, 2, 2, 0, 1,\n",
       "       1, 1, 1, 0, 1, 0, 1, 2, 0, 0, 2, 0, 2, 2, 1, 0, 2, 0, 1, 1, 1, 2,\n",
       "       2, 1, 2, 0, 1, 1, 1, 2, 2, 1, 1, 0, 2, 0, 1, 2, 0, 0, 2, 1, 0, 0,\n",
       "       1, 0, 1, 0, 2, 0, 2, 0, 0, 2, 2, 0, 0, 1, 0, 2, 2, 0, 1, 2, 2, 1,\n",
       "       0, 0, 1, 1, 2, 0, 2, 2, 0, 1, 1, 1, 0, 1, 0, 2, 1, 1, 1, 1, 1, 2,\n",
       "       0, 1, 2, 1, 2, 0, 2, 0, 2, 0, 2, 1, 0, 0, 2, 1, 2, 0, 2, 0, 2, 2,\n",
       "       2, 1, 1, 1, 1, 2, 0, 0, 1, 2, 2, 2, 0, 2, 2, 0, 0, 2, 1, 0, 0, 0,\n",
       "       1, 2, 2, 1, 2, 0, 2, 2, 1, 0, 1, 0, 1, 0, 2, 2, 1, 1, 0, 0, 2, 2,\n",
       "       1, 1, 1, 1, 0, 0, 1, 2, 1, 2, 2, 2, 2, 2, 0, 0, 1, 0, 1, 2, 0, 0,\n",
       "       2, 2, 1, 0, 1, 1, 1, 1, 1, 2, 2, 1, 2, 1, 2, 1, 2, 2, 1, 0, 0, 1,\n",
       "       2, 1, 2, 0, 2, 0, 2, 0], dtype=int64)"
      ]
     },
     "execution_count": 68,
     "metadata": {},
     "output_type": "execute_result"
    }
   ],
   "source": [
    "bin_lidarsignal = np.linspace(\n",
    "    0, 360, num=LENGTH_LIDARSIGNAL, endpoint=True)\n",
    "bin_lidarsignal = np.delete(bin_lidarsignal, 0)\n",
    "lidars = np.digitize(lidars, bin_lidarsignal)\n",
    "print(bin_lidarsignal)\n",
    "lidars\n"
   ]
  },
  {
   "cell_type": "code",
   "execution_count": 69,
   "metadata": {},
   "outputs": [
    {
     "data": {
      "text/plain": [
       "[0, 0, 0, 0]"
      ]
     },
     "execution_count": 69,
     "metadata": {},
     "output_type": "execute_result"
    }
   ],
   "source": [
    "temp_lidars = lidars\n",
    "bin_lidarspace = np.array([45, 135, 180])\n",
    "lidars = np.array_split(temp_lidars, bin_lidarspace)\n",
    "section_lidars_min = [np.amin(lidars[0]), np.amin(\n",
    "    lidars[1]), np.amin(lidars[2]), np.amin(lidars[3])]\n",
    "section_lidars_min"
   ]
  },
  {
   "cell_type": "markdown",
   "metadata": {},
   "source": [
    "## TH2"
   ]
  },
  {
   "cell_type": "code",
   "execution_count": 143,
   "metadata": {},
   "outputs": [
    {
     "data": {
      "text/plain": [
       "array([395, 255, 657, 450, 499, 253, 286, 863, 626, 138, 203, 386, 620,\n",
       "       170, 632, 550, 501, 658, 486, 369, 525, 184, 474, 493, 252, 704,\n",
       "       675, 330, 998, 819, 821, 184, 207, 583, 143, 885, 539, 512, 783,\n",
       "       990, 472, 928, 800, 219, 782, 451, 673, 955, 934, 413, 660, 223,\n",
       "       207, 536, 736, 890, 525, 798, 204, 346, 523, 145, 660, 594, 760,\n",
       "       201, 474, 525, 787, 560, 265, 845, 926, 931, 598, 892, 994, 602,\n",
       "       174, 775, 134, 201, 474, 986, 948, 494, 312, 420, 490, 913, 591,\n",
       "       986, 785, 264, 376, 727, 876, 792, 653, 754, 910, 862, 610, 192,\n",
       "       632, 315, 721, 494, 362, 684, 879, 443, 877, 995, 948, 687, 843,\n",
       "       807, 770, 665, 645, 927, 914, 470, 468, 754, 656, 181, 209, 373,\n",
       "       915, 820, 183, 496, 364, 915, 546, 467, 875, 594, 171, 220, 398,\n",
       "       628, 416, 339, 531, 274, 258, 801, 487, 331, 886, 510, 552, 896,\n",
       "       664, 738, 964, 197, 576, 225, 485, 212, 192, 888, 719, 636, 493,\n",
       "       178, 503, 879, 589, 757, 600, 551, 909, 737, 813, 866, 871, 203,\n",
       "       810, 487, 557, 877, 476, 713, 778, 855, 458, 542, 385, 672, 253,\n",
       "       795, 336, 595, 343, 143, 811, 646, 857, 480, 670, 681, 477, 233,\n",
       "       907, 393, 280, 162, 901, 651, 310, 838, 288, 584, 506, 460, 928,\n",
       "       267, 388, 636, 757, 620, 783, 589, 566, 775, 351, 470, 940, 804,\n",
       "       298, 176, 633, 480, 216, 316, 583, 506, 943, 148, 564, 626, 686,\n",
       "       515, 449, 847, 660, 725, 807, 585, 602, 233, 785, 185, 942, 139,\n",
       "       948, 130, 686, 454, 400, 623, 247, 518, 172, 331, 686, 498, 893,\n",
       "       604, 936, 534, 682, 786, 461, 553, 444, 339, 681, 691, 257, 525,\n",
       "       336, 492, 977, 663, 583, 562, 446, 956, 527, 490, 645, 334, 601,\n",
       "       275, 583, 820, 693, 790, 135, 377, 840, 319, 362, 844, 774, 917,\n",
       "       727, 843, 421, 762, 421, 242, 397, 683, 440, 149, 427, 831, 524,\n",
       "       166, 642, 381, 288, 960, 727, 418, 620, 746, 399, 376, 418, 866,\n",
       "       295, 337, 317, 489, 662, 219, 766, 386, 482, 411, 705, 957, 388,\n",
       "       672, 147, 957, 328, 216, 671, 236, 841, 478])"
      ]
     },
     "execution_count": 143,
     "metadata": {},
     "output_type": "execute_result"
    }
   ],
   "source": [
    "import numpy as np\n",
    "import random\n",
    "from const import *\n",
    "\n",
    "np.random.seed(10)\n",
    "\n",
    "lidars = np.random.randint(130, 999, size=360)\n",
    "lidars\n"
   ]
  },
  {
   "cell_type": "code",
   "execution_count": 144,
   "metadata": {},
   "outputs": [
    {
     "data": {
      "text/plain": [
       "array([3, 2, 3, 3, 3, 2, 2, 3, 3, 1, 1, 3, 3, 1, 3, 3, 3, 3, 3, 3, 3, 1,\n",
       "       3, 3, 2, 3, 3, 2, 3, 3, 3, 1, 1, 3, 1, 3, 3, 3, 3, 3, 3, 3, 3, 1,\n",
       "       3, 3, 3, 3, 3, 3, 3, 1, 1, 3, 3, 3, 3, 3, 1, 2, 3, 1, 3, 3, 3, 1,\n",
       "       3, 3, 3, 3, 2, 3, 3, 3, 3, 3, 3, 3, 1, 3, 1, 1, 3, 3, 3, 3, 2, 3,\n",
       "       3, 3, 3, 3, 3, 2, 3, 3, 3, 3, 3, 3, 3, 3, 3, 1, 3, 2, 3, 3, 3, 3,\n",
       "       3, 3, 3, 3, 3, 3, 3, 3, 3, 3, 3, 3, 3, 3, 3, 3, 3, 1, 1, 3, 3, 3,\n",
       "       1, 3, 3, 3, 3, 3, 3, 3, 1, 1, 3, 3, 3, 2, 3, 2, 2, 3, 3, 2, 3, 3,\n",
       "       3, 3, 3, 3, 3, 1, 3, 1, 3, 1, 1, 3, 3, 3, 3, 1, 3, 3, 3, 3, 3, 3,\n",
       "       3, 3, 3, 3, 3, 1, 3, 3, 3, 3, 3, 3, 3, 3, 3, 3, 3, 3, 2, 3, 2, 3,\n",
       "       2, 1, 3, 3, 3, 3, 3, 3, 3, 1, 3, 3, 2, 1, 3, 3, 2, 3, 2, 3, 3, 3,\n",
       "       3, 2, 3, 3, 3, 3, 3, 3, 3, 3, 2, 3, 3, 3, 2, 1, 3, 3, 1, 2, 3, 3,\n",
       "       3, 1, 3, 3, 3, 3, 3, 3, 3, 3, 3, 3, 3, 1, 3, 1, 3, 1, 3, 1, 3, 3,\n",
       "       3, 3, 2, 3, 1, 2, 3, 3, 3, 3, 3, 3, 3, 3, 3, 3, 3, 2, 3, 3, 2, 3,\n",
       "       2, 3, 3, 3, 3, 3, 3, 3, 3, 3, 3, 2, 3, 2, 3, 3, 3, 3, 1, 3, 3, 2,\n",
       "       3, 3, 3, 3, 3, 3, 3, 3, 3, 2, 3, 3, 3, 1, 3, 3, 3, 1, 3, 3, 2, 3,\n",
       "       3, 3, 3, 3, 3, 3, 3, 3, 2, 2, 2, 3, 3, 1, 3, 3, 3, 3, 3, 3, 3, 3,\n",
       "       1, 3, 2, 1, 3, 1, 3, 3], dtype=int64)"
      ]
     },
     "execution_count": 144,
     "metadata": {},
     "output_type": "execute_result"
    }
   ],
   "source": [
    "bin_lidarsignal = np.linspace(0, 360, num=LENGTH_LIDARSIGNAL, endpoint=True)\n",
    "bin_lidarsignal = np.delete(bin_lidarsignal, 0)\n",
    "lidars_digitized = np.digitize(lidars, bin_lidarsignal)\n",
    "lidars_digitized\n"
   ]
  },
  {
   "cell_type": "code",
   "execution_count": 142,
   "metadata": {},
   "outputs": [
    {
     "name": "stdout",
     "output_type": "stream",
     "text": [
      "[1, 1, 1, 1]\n"
     ]
    }
   ],
   "source": [
    "\n",
    "bin_lidarspace = np.array([45, 135, 180])\n",
    "lidars_sections = np.array_split(lidars_digitized, bin_lidarspace)\n",
    "section_lidars_min = [np.amin(section) for section in lidars_sections]\n",
    "print(section_lidars_min)\n"
   ]
  },
  {
   "cell_type": "code",
   "execution_count": 145,
   "metadata": {},
   "outputs": [],
   "source": [
    "#! chuyen doi state vector\n",
    "high, low = 1, 0\n",
    "alpha_space = 0, 2*math.pi\n",
    "fwVelo_space = -PLAYER_SETTING.MAX_FORWARD_VELO, PLAYER_SETTING.MAX_FORWARD_VELO\n",
    "rVelo_space = PLAYER_SETTING.MIN_ROTATION_VELO, PLAYER_SETTING.MAX_ROTATION_VELO\n",
    "\n",
    "lowState = np.array(\n",
    "    [alpha_space[0], fwVelo_space[0], rVelo_space[0]], dtype=float)\n",
    "upState = np.array(\n",
    "    [alpha_space[1], fwVelo_space[1], rVelo_space[1]], dtype=float)\n",
    "\n",
    "infoState_shape = (ALPHA_SPACE, FWVELO_SPACE, RVELO_SPACE)\n",
    "\n",
    "bins = []\n",
    "for i in range(3):\n",
    "    item = np.linspace(\n",
    "        lowState[i],\n",
    "        upState[i],\n",
    "        num=infoState_shape[i],\n",
    "        endpoint=False)\n",
    "    item = np.delete(item, 0)\n",
    "    bins.append(item)\n",
    "\n",
    "s = (0.23, 10, -0.4987)\n",
    "infoStateVector = []\n",
    "for i in range(3):\n",
    "    infoStateVector.append(np.digitize(s[i], bins[i]))\n",
    "\n",
    "infoStateVector = np.array(infoStateVector)\n",
    "lidarStateVector = np.array(section_lidars_min)\n"
   ]
  },
  {
   "cell_type": "code",
   "execution_count": 146,
   "metadata": {},
   "outputs": [
    {
     "data": {
      "text/plain": [
       "array([0, 2, 1, 1, 1, 1, 1], dtype=int64)"
      ]
     },
     "execution_count": 146,
     "metadata": {},
     "output_type": "execute_result"
    }
   ],
   "source": [
    "np.concatenate((infoStateVector, lidarStateVector))"
   ]
  }
 ],
 "metadata": {
  "kernelspec": {
   "display_name": "Python 3",
   "language": "python",
   "name": "python3"
  },
  "language_info": {
   "codemirror_mode": {
    "name": "ipython",
    "version": 3
   },
   "file_extension": ".py",
   "mimetype": "text/x-python",
   "name": "python",
   "nbconvert_exporter": "python",
   "pygments_lexer": "ipython3",
   "version": "3.12.0"
  }
 },
 "nbformat": 4,
 "nbformat_minor": 2
}

{
 "cells": [
  {
   "cell_type": "code",
   "execution_count": 4,
   "metadata": {},
   "outputs": [
    {
     "name": "stdout",
     "output_type": "stream",
     "text": [
      "(20, 4, 4, 4, 4, 4, 4, 6)\n",
      "[3 3 3 3]\n"
     ]
    }
   ],
   "source": [
    "import pygame_2d\n",
    "from const import *\n",
    "import numpy as np\n",
    "\n",
    "screen = np.zeros((720, 1280, 3), dtype=np.uint8)\n",
    "\n",
    "game = pygame_2d.PyGame2D(screen=screen)\n",
    "\n",
    "\n",
    "lidarspace_shape = tuple([LENGTH_LIDARSIGNAL] * SECTIONS_LIDARSPACE)\n",
    "new_observation_shape = (ALPHA_SPACE, FWVELO_SPACE,\n",
    "                         RVELO_SPACE) + lidarspace_shape\n",
    "\n",
    "\n",
    "q_table = np.zeros(new_observation_shape + (ACTION_SPACE,))  # ! random\n",
    "\n",
    "\n",
    "print(q_table.shape)\n",
    "arr = game.observe()[-4:]\n",
    "print(arr)"
   ]
  }
 ],
 "metadata": {
  "kernelspec": {
   "display_name": "Python 3",
   "language": "python",
   "name": "python3"
  },
  "language_info": {
   "codemirror_mode": {
    "name": "ipython",
    "version": 3
   },
   "file_extension": ".py",
   "mimetype": "text/x-python",
   "name": "python",
   "nbconvert_exporter": "python",
   "pygments_lexer": "ipython3",
   "version": "3.12.0"
  }
 },
 "nbformat": 4,
 "nbformat_minor": 2
}

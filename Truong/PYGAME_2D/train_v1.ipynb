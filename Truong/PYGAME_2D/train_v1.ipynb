{
 "cells": [
  {
   "cell_type": "code",
   "execution_count": 108,
   "metadata": {},
   "outputs": [],
   "source": [
    "import pygame_2d\n",
    "from const import *\n",
    "import numpy as np\n",
    "\n",
    "screen = np.zeros((720, 1280, 3), dtype=np.uint8)\n",
    "\n",
    "\n",
    "gamma = 0.99\n",
    "alpha = 0.1\n",
    "epsilon = 1\n",
    "epsilon_decay = epsilon / 4000\n",
    "n_epsilondes = 10000\n"
   ]
  },
  {
   "cell_type": "code",
   "execution_count": 109,
   "metadata": {},
   "outputs": [
    {
     "data": {
      "text/plain": [
       "(20, 4, 4, 4, 3, 3, 3, 3)"
      ]
     },
     "execution_count": 109,
     "metadata": {},
     "output_type": "execute_result"
    }
   ],
   "source": [
    "\n",
    "\n",
    "def pick_sample(state):\n",
    "    if np.random.random() > epsilon:\n",
    "        action = np.argmax(q_table[tuple(state)])\n",
    "    else:\n",
    "        action = np.random.randint(0, ACTION_SPACE)\n",
    "    return action\n",
    "\n",
    "\n",
    "game = pygame_2d.PyGame2D(screen=screen)\n",
    "\n",
    "lidarspace_shape = tuple([LENGTH_LIDARSIGNAL] * SECTIONS_LIDARSPACE)\n",
    "new_observation_shape = (ALPHA_SPACE, FWVELO_SPACE,\n",
    "                         RVELO_SPACE, SECTIONS_LIDARSPACE) + lidarspace_shape\n",
    "\n",
    "new_observation_shape"
   ]
  },
  {
   "cell_type": "code",
   "execution_count": 110,
   "metadata": {},
   "outputs": [
    {
     "data": {
      "text/plain": [
       "(20, 4, 4, 4, 3, 3, 3, 3, 6)"
      ]
     },
     "execution_count": 110,
     "metadata": {},
     "output_type": "execute_result"
    }
   ],
   "source": [
    "q_table = np.zeros(new_observation_shape + (ACTION_SPACE,))\n",
    "q_table.shape"
   ]
  },
  {
   "cell_type": "code",
   "execution_count": 111,
   "metadata": {},
   "outputs": [
    {
     "data": {
      "text/plain": [
       "array([   10,     2,     2,     2,     2,     2, 99999], dtype=int64)"
      ]
     },
     "execution_count": 111,
     "metadata": {},
     "output_type": "execute_result"
    }
   ],
   "source": [
    "state = game.observe()\n",
    "state"
   ]
  },
  {
   "cell_type": "code",
   "execution_count": 112,
   "metadata": {},
   "outputs": [
    {
     "name": "stdout",
     "output_type": "stream",
     "text": [
      "0.013117790222167969 0.013117790222167969 0.013117790222167969 0.013117790222167969 1\n"
     ]
    },
    {
     "ename": "IndexError",
     "evalue": "index 99999 is out of bounds for axis 6 with size 3",
     "output_type": "error",
     "traceback": [
      "\u001b[1;31m---------------------------------------------------------------------------\u001b[0m",
      "\u001b[1;31mIndexError\u001b[0m                                Traceback (most recent call last)",
      "\u001b[1;32mc:\\Users\\truon\\PROJECTS\\PYTHON\\do-an-hk231\\Autostore-Robot\\Truong\\PYGAME_2D\\train_v1.ipynb Cell 5\u001b[0m line \u001b[0;36m1\n\u001b[0;32m     <a href='vscode-notebook-cell:/c%3A/Users/truon/PROJECTS/PYTHON/do-an-hk231/Autostore-Robot/Truong/PYGAME_2D/train_v1.ipynb#W3sZmlsZQ%3D%3D?line=12'>13</a>\u001b[0m done \u001b[39m=\u001b[39m game\u001b[39m.\u001b[39mis_done()\n\u001b[0;32m     <a href='vscode-notebook-cell:/c%3A/Users/truon/PROJECTS/PYTHON/do-an-hk231/Autostore-Robot/Truong/PYGAME_2D/train_v1.ipynb#W3sZmlsZQ%3D%3D?line=14'>15</a>\u001b[0m \u001b[39m# Update Q-Table\u001b[39;00m\n\u001b[1;32m---> <a href='vscode-notebook-cell:/c%3A/Users/truon/PROJECTS/PYTHON/do-an-hk231/Autostore-Robot/Truong/PYGAME_2D/train_v1.ipynb#W3sZmlsZQ%3D%3D?line=15'>16</a>\u001b[0m maxQ \u001b[39m=\u001b[39m np\u001b[39m.\u001b[39mmax(q_table[\u001b[39mtuple\u001b[39;49m(next_state)])\n\u001b[0;32m     <a href='vscode-notebook-cell:/c%3A/Users/truon/PROJECTS/PYTHON/do-an-hk231/Autostore-Robot/Truong/PYGAME_2D/train_v1.ipynb#W3sZmlsZQ%3D%3D?line=16'>17</a>\u001b[0m q_table[\u001b[39mtuple\u001b[39m(state)][action] \u001b[39m+\u001b[39m\u001b[39m=\u001b[39m alpha \u001b[39m*\u001b[39m (reward \u001b[39m+\u001b[39m\n\u001b[0;32m     <a href='vscode-notebook-cell:/c%3A/Users/truon/PROJECTS/PYTHON/do-an-hk231/Autostore-Robot/Truong/PYGAME_2D/train_v1.ipynb#W3sZmlsZQ%3D%3D?line=17'>18</a>\u001b[0m                                           gamma \u001b[39m*\u001b[39m maxQ \u001b[39m-\u001b[39m q_table[\u001b[39mtuple\u001b[39m(state)][action])\n\u001b[0;32m     <a href='vscode-notebook-cell:/c%3A/Users/truon/PROJECTS/PYTHON/do-an-hk231/Autostore-Robot/Truong/PYGAME_2D/train_v1.ipynb#W3sZmlsZQ%3D%3D?line=19'>20</a>\u001b[0m state \u001b[39m=\u001b[39m next_state\n",
      "\u001b[1;31mIndexError\u001b[0m: index 99999 is out of bounds for axis 6 with size 3"
     ]
    }
   ],
   "source": [
    "\n",
    "reward_records = []\n",
    "for i in range(n_epsilondes):\n",
    "    done = False\n",
    "    total_reward = 0\n",
    "    state = game.observe()\n",
    "\n",
    "    while not done:\n",
    "        action = pick_sample(state)\n",
    "        game.action(action)\n",
    "\n",
    "        next_state = game.observe()\n",
    "        reward = game.evaluate()\n",
    "        done = game.is_done()\n",
    "\n",
    "        # Update Q-Table\n",
    "        maxQ = np.max(q_table[tuple(next_state)])\n",
    "        q_table[tuple(state)][action] += alpha * (reward +\n",
    "                                                  gamma * maxQ - q_table[tuple(state)][action])\n",
    "\n",
    "        state = next_state\n",
    "        total_reward += reward\n",
    "\n",
    "    # Update epsilon for each episode\n",
    "    if epsilon - epsilon_decay >= 0:\n",
    "        epsilon -= epsilon_decay\n",
    "\n",
    "    # Record total rewards in episode\n",
    "    print(\"Run episode {} with rewards {}\".format(i, total_reward), end=\"\\r\")\n",
    "    reward_records.append(total_reward)\n",
    "\n",
    "print(\"\\nDone\")\n"
   ]
  }
 ],
 "metadata": {
  "kernelspec": {
   "display_name": "Python 3",
   "language": "python",
   "name": "python3"
  },
  "language_info": {
   "codemirror_mode": {
    "name": "ipython",
    "version": 3
   },
   "file_extension": ".py",
   "mimetype": "text/x-python",
   "name": "python",
   "nbconvert_exporter": "python",
   "pygments_lexer": "ipython3",
   "version": "3.12.0"
  }
 },
 "nbformat": 4,
 "nbformat_minor": 2
}
